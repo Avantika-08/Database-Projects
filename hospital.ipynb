{
 "cells": [
  {
   "cell_type": "code",
   "execution_count": 4,
   "metadata": {},
   "outputs": [],
   "source": [
    "from tkinter import *\n",
    "from tkinter import ttk\n",
    "import random\n",
    "import time\n",
    "import datetime\n",
    "from tkinter import messagebox\n",
    "import mysql.connector\n"
   ]
  },
  {
   "cell_type": "code",
   "execution_count": 17,
   "metadata": {},
   "outputs": [],
   "source": [
    "class Hospital:\n",
    "    def __init__(self,root):\n",
    "        self.root=root\n",
    "        self.root.title(\"Hospital Management System\")\n",
    "        self.root.geometry(\"1540x800+0+0\")\n",
    "        labelTitle=Label(self.root,bd=20,relief=RIDGE,text=\"Hospital Management System\",fg=\"Green\",font=(\"arial\",50,\"bold\"))\n",
    "        labelTitle.pack(side=TOP,fill=X)\n",
    "        \n",
    "        ##### Data Frame #####\n",
    "        DataFrame=Frame(self.root,bd=20,relief=RIDGE)\n",
    "        DataFrame.place(x=0,y=130,width=1530,height=400)\n",
    "        \n",
    "        dataframeLeft=LabelFrame(DataFrame,bd=10,relief=RIDGE,padx=10,font=(\"arial\",12,\"bold\"),text=\"Patient Information\")\n",
    "        dataframeLeft.place(x=0,y=5,width=980,height=350)\n",
    "        \n",
    "        dataframeRight=LabelFrame(DataFrame,bd=10,relief=RIDGE,padx=10,font=(\"arial\",12,\"bold\"),text=\"Prescription\")\n",
    "        dataframeRight.place(x=990,y=5,width=460,height=350)\n",
    "        \n",
    "        \n",
    "        ##### Buttons frame #####\n",
    "        ButtonFrame=Frame(self.root,bd=20,relief=RIDGE)\n",
    "        ButtonFrame.place(x=0,y=530,width=1530,height=70)\n",
    "        \n",
    "        \n",
    "        ##### Details Frame #####\n",
    "        DetailsFrame=Frame(self.root,bd=20,relief=RIDGE)\n",
    "        DetailsFrame.place(x=0,y=600,width=1530,height=400)\n",
    "        \n",
    "        \n",
    "        ##### DataframeLeft #####\n",
    "        lblnameTablet=Label(dataframeLeft,text=\"Names of Tablet\",font=(\"arial\",12,\"bold\"),padx=2,pady=6)\n",
    "        lblnameTablet.grid(row=0,column=0)\n",
    "        \n",
    "        comNametablet=ttk.Combobox(dataframeLeft,font=(\"arial\",12,\"bold\"),width=33)\n",
    "        comNametablet[\"values\"]=(\"Nice\",\"Corona Vaccine\",\"Acetaminoplen\",\"Adderall\",\"Amlodipine\",\"Ativan\")\n",
    "        comNametablet.current(0)\n",
    "        comNametablet.grid(row=0,column=1)\n",
    "        \n",
    "        lblref=Label(dataframeLeft,font=(\"arial\",12,\"bold\"),text=\"Refence No:\",padx=2)\n",
    "        lblref.grid(row=1,column=0,sticky=W)\n",
    "        txtref=Entry(dataframeLeft,font=(\"arial\",13,\"bold\"),width=35)\n",
    "        txtref.grid(row=1,column=1)\n",
    "        \n",
    "        lblDose=Label(dataframeLeft,font=(\"arial\",12,\"bold\"),text=\"Dose:\",padx=2,pady=4)\n",
    "        lblDose.grid(row=2,column=0,sticky=W)\n",
    "        txtDose=Entry(dataframeLeft,font=(\"arial\",13,\"bold\"),width=35)\n",
    "        txtDose.grid(row=2,column=1)\n",
    "        \n",
    "        lblNoOfTablets=Label(dataframeLeft,font=(\"arial\",12,\"bold\"),text=\"No of Tablets:\",padx=2,pady=6)\n",
    "        lblNoOfTablets.grid(row=3,column=0,sticky=W)\n",
    "        txtNoOfTablets=Entry(dataframeLeft,font=(\"arial\",12,\"bold\"),width=35)\n",
    "        txtNoOfTablets.grid(row=3,column=1)"
   ]
  },
  {
   "cell_type": "code",
   "execution_count": 16,
   "metadata": {},
   "outputs": [],
   "source": [
    "root=Tk()\n",
    "ob=Hospital(root)\n",
    "root.mainloop()"
   ]
  },
  {
   "cell_type": "code",
   "execution_count": null,
   "metadata": {},
   "outputs": [],
   "source": []
  }
 ],
 "metadata": {
  "kernelspec": {
   "display_name": "Python 3",
   "language": "python",
   "name": "python3"
  },
  "language_info": {
   "codemirror_mode": {
    "name": "ipython",
    "version": 3
   },
   "file_extension": ".py",
   "mimetype": "text/x-python",
   "name": "python",
   "nbconvert_exporter": "python",
   "pygments_lexer": "ipython3",
   "version": "3.12.0"
  }
 },
 "nbformat": 4,
 "nbformat_minor": 2
}
